{
 "cells": [
  {
   "cell_type": "markdown",
   "metadata": {},
   "source": [
    "# Importación de librerías"
   ]
  },
  {
   "cell_type": "code",
   "execution_count": 1,
   "metadata": {},
   "outputs": [],
   "source": [
    "import pandas as pd\n",
    "import matplotlib.pyplot as plt"
   ]
  },
  {
   "cell_type": "markdown",
   "metadata": {},
   "source": [
    "\n",
    "\n",
    "#### Creo una nueva columna en el DataFrame. Cada fila de este nuevo DataFrame tiene un valor que consta de la suma de todas las ventas hasta el momento.\n",
    "\n",
    "Obtengo los valores de los meses que representan un trimestre entero de ventas y los muestro por consola.\n"
   ]
  },
  {
   "cell_type": "code",
   "execution_count": 2,
   "metadata": {},
   "outputs": [
    {
     "name": "stdout",
     "output_type": "stream",
     "text": [
      "ventas de trimestre 1:      mes  total_ventas   año  total\n",
      "2  Marzo         22000  2023  55000\n",
      "ventas de trimestre 2:      mes  total_ventas   año   total\n",
      "5  Junio         28000  2023  127000\n",
      "ventas de trimestre 3:           mes  total_ventas   año   total\n",
      "8  Septiembre         28000  2023  217000\n",
      "ventas de trimestre 4:           mes  total_ventas   año   total\n",
      "11  Diciembre         36000  2023  317000\n",
      "ventas de trimestre 5:         mes  total_ventas   año   total\n",
      "14  Marzo 2         42000  2024  434000\n",
      "ventas de trimestre 6:         mes  total_ventas   año   total\n",
      "17  Junio 2         48000  2024  566000\n",
      "ventas de trimestre 7:              mes  total_ventas   año   total\n",
      "20  Septiembre 2         48000  2024  716000\n",
      "ventas de trimestre 8:             mes  total_ventas   año   total\n",
      "23  Diciembre 2         58000  2024  880000\n",
      "             mes  total_ventas   año   total\n",
      "1        Febrero         18000  2023   33000\n",
      "2          Marzo         22000  2023   55000\n",
      "3          Abril         19000  2023   74000\n",
      "4           Mayo         25000  2023   99000\n",
      "5          Junio         28000  2023  127000\n",
      "6          Julio         32000  2023  159000\n",
      "7         Agosto         30000  2023  189000\n",
      "8     Septiembre         28000  2023  217000\n",
      "9        Octubre         31000  2023  248000\n",
      "10     Noviembre         33000  2023  281000\n",
      "11     Diciembre         36000  2023  317000\n",
      "12       Enero 2         37000  2024  354000\n",
      "13     Febrero 2         38000  2024  392000\n",
      "14       Marzo 2         42000  2024  434000\n",
      "15       Abril 2         39000  2024  473000\n",
      "16        Mayo 2         45000  2024  518000\n",
      "17       Junio 2         48000  2024  566000\n",
      "18       Julio 2         52000  2024  618000\n",
      "19      Agosto 2         50000  2024  668000\n",
      "20  Septiembre 2         48000  2024  716000\n",
      "21     Octubre 2         51000  2024  767000\n",
      "22   Noviembre 2         55000  2024  822000\n",
      "23   Diciembre 2         58000  2024  880000\n"
     ]
    }
   ],
   "source": [
    "ventas_mensuales = [\n",
    "  {\"mes\": \"Enero\", \"total_ventas\": 15000, \"año\": 2023},\n",
    "  {\"mes\": \"Febrero\", \"total_ventas\": 18000, \"año\": 2023},\n",
    "  {\"mes\": \"Marzo\", \"total_ventas\": 22000, \"año\": 2023},\n",
    "  {\"mes\": \"Abril\", \"total_ventas\": 19000, \"año\": 2023},\n",
    "  {\"mes\": \"Mayo\", \"total_ventas\": 25000, \"año\": 2023},\n",
    "  {\"mes\": \"Junio\", \"total_ventas\": 28000, \"año\": 2023},\n",
    "  {\"mes\": \"Julio\", \"total_ventas\": 32000, \"año\": 2023},\n",
    "  {\"mes\": \"Agosto\", \"total_ventas\": 30000, \"año\": 2023},\n",
    "  {\"mes\": \"Septiembre\", \"total_ventas\": 28000, \"año\": 2023},\n",
    "  {\"mes\": \"Octubre\", \"total_ventas\": 31000, \"año\": 2023},\n",
    "  {\"mes\": \"Noviembre\", \"total_ventas\": 33000, \"año\": 2023},\n",
    "  {\"mes\": \"Diciembre\", \"total_ventas\": 36000, \"año\": 2023},\n",
    "  {\"mes\": \"Enero 2\", \"total_ventas\": 37000, \"año\": 2024},\n",
    "  {\"mes\": \"Febrero 2\", \"total_ventas\": 38000, \"año\": 2024},\n",
    "  {\"mes\": \"Marzo 2\", \"total_ventas\": 42000, \"año\": 2024},\n",
    "  {\"mes\": \"Abril 2\", \"total_ventas\": 39000, \"año\": 2024},\n",
    "  {\"mes\": \"Mayo 2\", \"total_ventas\": 45000, \"año\": 2024},\n",
    "  {\"mes\": \"Junio 2\", \"total_ventas\": 48000, \"año\": 2024},\n",
    "  {\"mes\": \"Julio 2\", \"total_ventas\": 52000, \"año\": 2024},\n",
    "  {\"mes\": \"Agosto 2\", \"total_ventas\": 50000, \"año\": 2024},\n",
    "  {\"mes\": \"Septiembre 2\", \"total_ventas\": 48000, \"año\": 2024},\n",
    "  {\"mes\": \"Octubre 2\", \"total_ventas\": 51000, \"año\": 2024},\n",
    "  {\"mes\": \"Noviembre 2\", \"total_ventas\": 55000, \"año\": 2024},\n",
    "  {\"mes\": \"Diciembre 2\", \"total_ventas\": 58000, \"año\": 2024},\n",
    "  ]\n",
    "  \n",
    "lista_ventas = pd.DataFrame(ventas_mensuales)\n",
    "\n",
    "lista_ventas[\"total_ventas\"]\n",
    "lista_ventas[\"total\"] = lista_ventas[\"total_ventas\"].cumsum()\n",
    "\n",
    "ventas_trimestre1 = lista_ventas[\"mes\"] == \"Marzo\" \n",
    "ventas_trimestre2 = lista_ventas[\"mes\"] == \"Junio\" \n",
    "ventas_trimestre3 = lista_ventas[\"mes\"] == \"Septiembre\" \n",
    "ventas_trimestre4 = lista_ventas[\"mes\"] == \"Diciembre\" \n",
    "ventas_trimestre5 = lista_ventas[\"mes\"] == \"Marzo 2\" \n",
    "ventas_trimestre6 = lista_ventas[\"mes\"] == \"Junio 2\" \n",
    "ventas_trimestre7 = lista_ventas[\"mes\"] == \"Septiembre 2\" \n",
    "ventas_trimestre8 = lista_ventas[\"mes\"] == \"Diciembre 2\" \n",
    "\n",
    "ventas_trimestre1 = lista_ventas[ventas_trimestre1]\n",
    "ventas_trimestre2 = lista_ventas[ventas_trimestre2]\n",
    "ventas_trimestre3 = lista_ventas[ventas_trimestre3]\n",
    "ventas_trimestre4 = lista_ventas[ventas_trimestre4]\n",
    "ventas_trimestre5 = lista_ventas[ventas_trimestre5]\n",
    "ventas_trimestre6 = lista_ventas[ventas_trimestre6]\n",
    "ventas_trimestre7 = lista_ventas[ventas_trimestre7]\n",
    "ventas_trimestre8 = lista_ventas[ventas_trimestre8]\n",
    "print(f\"ventas de trimestre 1: {ventas_trimestre1}\")\n",
    "print(f\"ventas de trimestre 2: {ventas_trimestre2}\")\n",
    "print(f\"ventas de trimestre 3: {ventas_trimestre3}\")\n",
    "print(f\"ventas de trimestre 4: {ventas_trimestre4}\")\n",
    "print(f\"ventas de trimestre 5: {ventas_trimestre5}\")\n",
    "print(f\"ventas de trimestre 6: {ventas_trimestre6}\")\n",
    "print(f\"ventas de trimestre 7: {ventas_trimestre7}\")\n",
    "print(f\"ventas de trimestre 8: {ventas_trimestre8}\")\n",
    "\n",
    "result = lista_ventas[\"total\"] > 20000\n",
    "result = lista_ventas[result]\n",
    "print(result)"
   ]
  },
  {
   "cell_type": "markdown",
   "metadata": {},
   "source": [
    "Filtro en la nueva columna llamada \"total\" una fila que tenga un total de ventas mayor a 20.000."
   ]
  },
  {
   "cell_type": "code",
   "execution_count": 3,
   "metadata": {},
   "outputs": [
    {
     "name": "stdout",
     "output_type": "stream",
     "text": [
      "             mes  total_ventas   año   total\n",
      "1        Febrero         18000  2023   33000\n",
      "2          Marzo         22000  2023   55000\n",
      "3          Abril         19000  2023   74000\n",
      "4           Mayo         25000  2023   99000\n",
      "5          Junio         28000  2023  127000\n",
      "6          Julio         32000  2023  159000\n",
      "7         Agosto         30000  2023  189000\n",
      "8     Septiembre         28000  2023  217000\n",
      "9        Octubre         31000  2023  248000\n",
      "10     Noviembre         33000  2023  281000\n",
      "11     Diciembre         36000  2023  317000\n",
      "12       Enero 2         37000  2024  354000\n",
      "13     Febrero 2         38000  2024  392000\n",
      "14       Marzo 2         42000  2024  434000\n",
      "15       Abril 2         39000  2024  473000\n",
      "16        Mayo 2         45000  2024  518000\n",
      "17       Junio 2         48000  2024  566000\n",
      "18       Julio 2         52000  2024  618000\n",
      "19      Agosto 2         50000  2024  668000\n",
      "20  Septiembre 2         48000  2024  716000\n",
      "21     Octubre 2         51000  2024  767000\n",
      "22   Noviembre 2         55000  2024  822000\n",
      "23   Diciembre 2         58000  2024  880000\n"
     ]
    }
   ],
   "source": [
    "result = lista_ventas[\"total\"] > 20000\n",
    "result = lista_ventas[result]\n",
    "print(result)"
   ]
  },
  {
   "cell_type": "markdown",
   "metadata": {},
   "source": [
    "Filtro la mayor cantidad de ventas con el método \"max\" en la columna \"total_ventas\"."
   ]
  },
  {
   "cell_type": "code",
   "execution_count": 4,
   "metadata": {},
   "outputs": [
    {
     "name": "stdout",
     "output_type": "stream",
     "text": [
      "mayor venta: 58000\n"
     ]
    }
   ],
   "source": [
    "max_valor = max(lista_ventas[\"total_ventas\"])\n",
    "\n",
    "print(f\"mayor venta: {max_valor}\")"
   ]
  },
  {
   "cell_type": "markdown",
   "metadata": {},
   "source": [
    "Obtengo el promedio de ventas sumando todas las ventas de un mes y diviendolo por la longitud de las filas de la columna \"total_ventas\"."
   ]
  },
  {
   "cell_type": "code",
   "execution_count": 5,
   "metadata": {},
   "outputs": [
    {
     "name": "stdout",
     "output_type": "stream",
     "text": [
      "promedio de ventas: 36666.666666666664\n"
     ]
    }
   ],
   "source": [
    "promedio = sum(lista_ventas[\"total_ventas\"])/len(lista_ventas[\"total_ventas\"])\n",
    "print(f\"promedio de ventas: {promedio}\")"
   ]
  },
  {
   "cell_type": "markdown",
   "metadata": {},
   "source": [
    "Hago una copia del DataFrame \"listaa_ventas\" y en la copia elimino las columnas \"año\" y \"total\" para unicamente mostrar por consola las columnas \"mes\" y \"total_ventas\"."
   ]
  },
  {
   "cell_type": "code",
   "execution_count": 6,
   "metadata": {},
   "outputs": [
    {
     "name": "stdout",
     "output_type": "stream",
     "text": [
      "             mes  total_ventas\n",
      "0          Enero         15000\n",
      "1        Febrero         18000\n",
      "2          Marzo         22000\n",
      "3          Abril         19000\n",
      "4           Mayo         25000\n",
      "5          Junio         28000\n",
      "6          Julio         32000\n",
      "7         Agosto         30000\n",
      "8     Septiembre         28000\n",
      "9        Octubre         31000\n",
      "10     Noviembre         33000\n",
      "11     Diciembre         36000\n",
      "12       Enero 2         37000\n",
      "13     Febrero 2         38000\n",
      "14       Marzo 2         42000\n",
      "15       Abril 2         39000\n",
      "16        Mayo 2         45000\n",
      "17       Junio 2         48000\n",
      "18       Julio 2         52000\n",
      "19      Agosto 2         50000\n",
      "20  Septiembre 2         48000\n",
      "21     Octubre 2         51000\n",
      "22   Noviembre 2         55000\n",
      "23   Diciembre 2         58000\n"
     ]
    }
   ],
   "source": [
    "mes_total = lista_ventas\n",
    "\n",
    "mes_total = mes_total.drop([\"año\"], axis=1)\n",
    "mes_total = mes_total.drop([\"total\"], axis=1)\n",
    "\n",
    "print(mes_total)"
   ]
  },
  {
   "cell_type": "markdown",
   "metadata": {},
   "source": [
    "Creo variables en las aque almacenaré los valores de la colmna \"mes\" como el eje \"x\" de un plano cartesiano y los valores de la columna \"total_ventas\" como el eje \"y\". Grafico todo con el método \"show\" utilizando la librería \"matplotlib\"."
   ]
  },
  {
   "cell_type": "code",
   "execution_count": 7,
   "metadata": {},
   "outputs": [
    {
     "data": {
      "image/png": "[encoded data removed]",
      "text/plain": [
       "<Figure size 640x480 with 1 Axes>"
      ]
     },
     "metadata": {},
     "output_type": "display_data"
    }
   ],
   "source": [
    "x = mes_total[\"mes\"]\n",
    "y = mes_total[\"total_ventas\"]\n",
    "\n",
    "plt.plot(x, y)\n",
    "plt.show()"
   ]
  }
 ],
 "metadata": {
  "kernelspec": {
   "display_name": "jupyter",
   "language": "python",
   "name": "python3"
  },
  "language_info": {
   "codemirror_mode": {
    "name": "ipython",
    "version": 3
   },
   "file_extension": ".py",
   "mimetype": "text/x-python",
   "name": "python",
   "nbconvert_exporter": "python",
   "pygments_lexer": "ipython3",
   "version": "3.12.2"
  }
 },
 "nbformat": 4,
 "nbformat_minor": 2
}
